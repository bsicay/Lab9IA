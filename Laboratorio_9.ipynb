{
  "nbformat": 4,
  "nbformat_minor": 0,
  "metadata": {
    "colab": {
      "provenance": []
    },
    "kernelspec": {
      "name": "python3",
      "display_name": "Python 3"
    },
    "language_info": {
      "name": "python"
    }
  },
  "cells": [
    {
      "cell_type": "markdown",
      "source": [
        "### **Task 2 - Algoritmo Forward Backward en HMM**"
      ],
      "metadata": {
        "id": "78J7y9Y_qpm0"
      }
    },
    {
      "cell_type": "code",
      "source": [
        "import random\n",
        "\n",
        "class HMM:\n",
        "    def __init__(self, states, observations, initial_prob, transition_prob, emission_prob):\n",
        "        self.states = states  # Estados del modelo\n",
        "        self.observations = observations  # Observaciones posibles\n",
        "        self.initial_prob = initial_prob  # Probabilidad inicial de los estados\n",
        "        self.transition_prob = transition_prob  # Probabilidad de transición entre estados\n",
        "        self.emission_prob = emission_prob  # Probabilidad de emisión de observaciones dado un estado\n",
        "\n",
        "    def generate_sequence(self, length):\n",
        "        sequence = []  # Secuencia de observaciones generadas\n",
        "        state = random.choices(self.states, weights=[self.initial_prob[s] for s in self.states], k=1)[0]\n",
        "        for _ in range(length):\n",
        "            observation = random.choices(self.observations, weights=[self.emission_prob[state][o] for o in self.observations], k=1)[0]\n",
        "            sequence.append((state, observation))\n",
        "            state = random.choices(self.states, weights=[self.transition_prob[state][s] for s in self.states], k=1)[0]\n",
        "        return sequence\n",
        "\n",
        "    def forward(self, sequence):\n",
        "        forward_prob = [{}]  # Probabilidades forward para cada paso de tiempo\n",
        "        for i, (state, observation) in enumerate(sequence):\n",
        "            if i == 0:\n",
        "                forward_prob[i] = {s: self.initial_prob[s] * self.emission_prob[s][observation] for s in self.states}\n",
        "            else:\n",
        "                forward_prob.append({})\n",
        "                for s in self.states:\n",
        "                    forward_prob[i][s] = sum(forward_prob[i - 1][prev_s] * self.transition_prob[prev_s][s] * self.emission_prob[s][observation] for prev_s in self.states)\n",
        "        return forward_prob\n",
        "\n",
        "    def backward(self, sequence):\n",
        "        N = len(sequence)\n",
        "        backward_prob = [{} for _ in range(N)]  # Probabilidades backward para cada paso de tiempo\n",
        "        for i in reversed(range(N)):\n",
        "            for s in self.states:\n",
        "                if i == N - 1:\n",
        "                    backward_prob[i][s] = 1\n",
        "                else:\n",
        "                    backward_prob[i][s] = sum(self.transition_prob[s][next_s] * self.emission_prob[next_s][sequence[i + 1][1]] * backward_prob[i + 1][next_s] for next_s in self.states)\n",
        "        return backward_prob\n",
        "\n",
        "    def compute_state_probabilities(self, sequence):\n",
        "        forward_prob = self.forward(sequence)\n",
        "        backward_prob = self.backward(sequence)\n",
        "        state_probabilities = []\n",
        "        for i in range(len(sequence)):\n",
        "            prob_sum = sum(forward_prob[i][s] * backward_prob[i][s] for s in self.states)\n",
        "            state_probabilities.append({s: (forward_prob[i][s] * backward_prob[i][s]) / prob_sum for s in self.states})\n",
        "        return state_probabilities\n",
        "\n",
        "# Parámetros del HMM\n",
        "states = ['Sunny', 'Rainy']\n",
        "observations = ['Sunny', 'Rainy']\n",
        "initial_prob = {'Sunny': 0.5, 'Rainy': 0.5}\n",
        "transition_prob = {'Sunny': {'Sunny': 0.8, 'Rainy': 0.2}, 'Rainy': {'Sunny': 0.4, 'Rainy': 0.6}}\n",
        "emission_prob = {'Sunny': {'Sunny': 0.8, 'Rainy': 0.2}, 'Rainy': {'Sunny': 0.3, 'Rainy': 0.7}}\n",
        "\n",
        "# instancia de HMM\n",
        "hmm = HMM(states, observations, initial_prob, transition_prob, emission_prob)\n",
        "\n",
        "# Generar una secuencia de observaciones\n",
        "sequence = hmm.generate_sequence(5)\n",
        "print(f\"Secuencia de observaciones: {sequence}\")\n",
        "\n",
        "# Calcular probabilidades forward\n",
        "fwd_probs = hmm.forward(sequence)\n",
        "print(f\"Probabilidades forward: {fwd_probs}\")\n",
        "\n",
        "# Calcular probabilidades backward\n",
        "bwd_probs = hmm.backward(sequence)\n",
        "print(f\"Probabilidades backward: {bwd_probs}\")\n",
        "\n",
        "# Calcular probabilidades de estado\n",
        "state_probs = hmm.compute_state_probabilities(sequence)\n",
        "print(f\"Probabilidades de estados: {state_probs}\")\n"
      ],
      "metadata": {
        "id": "hHcg6JRLq8ro",
        "colab": {
          "base_uri": "https://localhost:8080/"
        },
        "outputId": "6f47736e-b295-4796-c550-9f0b33ce6b7a"
      },
      "execution_count": 2,
      "outputs": [
        {
          "output_type": "stream",
          "name": "stdout",
          "text": [
            "Secuencia de observaciones: [('Sunny', 'Rainy'), ('Sunny', 'Sunny'), ('Sunny', 'Sunny'), ('Sunny', 'Sunny'), ('Sunny', 'Sunny')]\n",
            "Probabilidades forward: [{'Sunny': 0.1, 'Rainy': 0.35}, {'Sunny': 0.176, 'Rainy': 0.069}, {'Sunny': 0.13472, 'Rainy': 0.02298}, {'Sunny': 0.09357440000000002, 'Rainy': 0.0122196}, {'Sunny': 0.06379788800000001, 'Rainy': 0.007813992}]\n",
            "Probabilidades backward: [{'Sunny': 0.2204152000000002, 'Rainy': 0.1416296000000001}, {'Sunny': 0.3247600000000002, 'Rainy': 0.2094800000000001}, {'Sunny': 0.4780000000000002, 'Rainy': 0.31400000000000006}, {'Sunny': 0.7000000000000002, 'Rainy': 0.5}, {'Sunny': 1, 'Rainy': 1}]\n",
            "Probabilidades de estados: [{'Sunny': 0.30779138880308693, 'Rainy': 0.692208611196913}, {'Sunny': 0.7981603052454426, 'Rainy': 0.20183969475455749}, {'Sunny': 0.8992385062366747, 'Rainy': 0.10076149376332527}, {'Sunny': 0.9146817539212768, 'Rainy': 0.08531824607872322}, {'Sunny': 0.8908841382184073, 'Rainy': 0.10911586178159265}]\n"
          ]
        }
      ]
    }
  ]
}